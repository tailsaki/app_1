{
 "cells": [
  {
   "cell_type": "markdown",
   "metadata": {},
   "source": [
    "ログイン"
   ]
  },
  {
   "cell_type": "code",
   "execution_count": null,
   "metadata": {},
   "outputs": [],
   "source": [
    "#ログインIDとパスワード\n",
    "USER = '*****'\n",
    "PASS = '*****'\n",
    "#対象年月(2021年9月分：year:'2021', month:'9')\n",
    "year = '2022'\n",
    "month = '12'\n",
    "yearmonth = year + month\n",
    "#メンティーの人数\n",
    "mentee_number = 13\n",
    "#mentee_list0に、メンティー社員を指定(表の一番上の社員を1、その次の社員を2,3,...として、番号で指定)\n",
    "mentee_list0 = [2,3,4,5,6,7,8,9,10,11,12,13,14]\n",
    "mentee_list = [i - 1 for i in mentee_list0]\n",
    "\n",
    "#メンティーが月報を未提出の場合、メンター・メンティー報告書抽出時にtdタグがずれてエラーが起きる。"
   ]
  },
  {
   "cell_type": "code",
   "execution_count": null,
   "metadata": {
    "scrolled": true
   },
   "outputs": [],
   "source": [
    "#ブラウザ操作を自動化(値をコピー、クリック、値を入力)\n",
    "!pip install selenium\n",
    "#HTMLを読み取る\n",
    "!pip install beautifulsoup4\n",
    "#Excelを操作\n",
    "!pip install openpyxl"
   ]
  },
  {
   "cell_type": "code",
   "execution_count": null,
   "metadata": {},
   "outputs": [],
   "source": [
    "from selenium import webdriver\n",
    "from webdriver_manager.chrome import ChromeDriverManager\n",
    "#経過時間、処理時間の管理\n",
    "import time\n",
    "#データ解析\n",
    "import pandas as pd\n",
    "#HTML読み取り\n",
    "from bs4 import BeautifulSoup\n",
    "import urllib.request as req\n",
    "import requests\n",
    "#Pandas\n",
    "import pandas as pd\n",
    "#Excel\n",
    "import openpyxl"
   ]
  },
  {
   "cell_type": "code",
   "execution_count": null,
   "metadata": {
    "scrolled": true
   },
   "outputs": [],
   "source": [
    "#GoogleChromeを起動\n",
    "browser = webdriver.Chrome(ChromeDriverManager().install())\n",
    "browser.implicitly_wait(3)"
   ]
  },
  {
   "cell_type": "code",
   "execution_count": null,
   "metadata": {},
   "outputs": [],
   "source": [
    "#ログインするサイトへアクセス\n",
    "url_login = 'https://www.*****'\n",
    "browser.get(url_login)\n",
    "#指定のurlに遷移する前に下の処理に行かないための記述\n",
    "time.sleep(3)\n",
    "print('ログインページにアクセスしました')"
   ]
  },
  {
   "cell_type": "code",
   "execution_count": null,
   "metadata": {},
   "outputs": [],
   "source": [
    "#テキストボックス入力\n",
    "#HTMLのIDを指定して要素を取得\n",
    "element = browser.find_element_by_id('user-id')\n",
    "#テキストボックスの要素を空白にして、ログイン情報を入力\n",
    "element.clear()\n",
    "element.send_keys(USER)\n",
    "element = browser.find_element_by_id('pw-id')\n",
    "element.clear()\n",
    "element.send_keys(PASS)\n",
    "print('フォームを送信')"
   ]
  },
  {
   "cell_type": "code",
   "execution_count": null,
   "metadata": {},
   "outputs": [],
   "source": [
    "#「ログイン」をクリック\n",
    "browser_from = browser.find_element_by_xpath('/html/body/form/table/tbody/tr[6]/td[2]/input')\n",
    "time.sleep(3)\n",
    "browser_from.click()\n",
    "print('情報を入力してログインボタンを押しました')"
   ]
  },
  {
   "cell_type": "code",
   "execution_count": null,
   "metadata": {},
   "outputs": [],
   "source": [
    "#cookieを記憶\n",
    "cookie = browser.get_cookies()\n",
    "cookies = {\n",
    "    cookie['name']: cookie['value']\n",
    "    for cookie in cookie}"
   ]
  },
  {
   "cell_type": "code",
   "execution_count": null,
   "metadata": {
    "scrolled": true
   },
   "outputs": [],
   "source": [
    "#対象年月の月報一覧のページのhtmlを全て読み込む\n",
    "url2 = 'https://www.*****' + yearmonth\n",
    "response2 = requests.get(\n",
    "    url2,\n",
    "    cookies=cookies)\n",
    "parse_html2 = BeautifulSoup(response2.content, 'html.parser')"
   ]
  },
  {
   "cell_type": "code",
   "execution_count": null,
   "metadata": {
    "scrolled": true
   },
   "outputs": [],
   "source": [
    "#aタグのみを取り出し\n",
    "title_lists2 = parse_html2.find_all('a')\n",
    "#全メンバーの月報ページのリンクアイコン「開く」のみを取り出し\n",
    "list(filter(lambda x: '開く' in x,title_lists2))\n",
    "#表示URLの不足分を補い、全メンバーの月報ページのURLリストをurl_list2として作成\n",
    "url_list2 = []\n",
    "for i in list(filter(lambda x: '開く' in x,title_lists2)):\n",
    "    url_list2.append(i.attrs['href'])\n",
    "url_list2 = list(map(lambda x: 'https://www.*****' + x, url_list2))"
   ]
  },
  {
   "cell_type": "code",
   "execution_count": null,
   "metadata": {},
   "outputs": [],
   "source": [
    "#url_list2から大量のhtmlを読み込んで整理\n",
    "parse_html_list2 = []\n",
    "for i in url_list2:\n",
    "    response2 = requests.get(i, cookies=cookies)\n",
    "    parse_html2 = BeautifulSoup(response2.content, 'html.parser')\n",
    "    parse_html_list2.append(parse_html2)\n",
    "parse_html_list2"
   ]
  },
  {
   "cell_type": "code",
   "execution_count": null,
   "metadata": {
    "scrolled": true
   },
   "outputs": [],
   "source": [
    "#tdタグのみ取り出す。未提出者のページは項目が合わなくなるので項目の数の空欄になるように処理。\n",
    "title_lists2 = []\n",
    "for i in parse_html_list2:\n",
    "    title_lists2.append(i.find_all('td')[0:10])\n",
    "for i in range(len(title_lists2)):\n",
    "    if not title_lists2[i]:\n",
    "        title_lists2[i] = ['','','','','','','','','','']\n",
    "title_lists2"
   ]
  },
  {
   "cell_type": "code",
   "execution_count": null,
   "metadata": {
    "scrolled": true
   },
   "outputs": [],
   "source": [
    "#改行の際に現れる<br/>を取り除く。\n",
    "title_list2 = []\n",
    "for k in range(len(title_lists2)):\n",
    "    for i in title_lists2[k]:\n",
    "        if  i != '':\n",
    "            title_list2.append(i.text.replace('<br/>', ''))\n",
    "        else:\n",
    "            title_list2.append(i)\n",
    "title_list2"
   ]
  },
  {
   "cell_type": "code",
   "execution_count": null,
   "metadata": {
    "scrolled": true
   },
   "outputs": [],
   "source": [
    "#indexを入手\n",
    "index_html = parse_html_list2[0].find_all('th')[0:10]\n",
    "index_html2 = []\n",
    "for i in index_html:\n",
    "    index_html2.append(i.text.replace('<br/>', ''))\n",
    "index_html2"
   ]
  },
  {
   "cell_type": "code",
   "execution_count": null,
   "metadata": {},
   "outputs": [],
   "source": [
    "#Dataframe作成\n",
    "#(columns:名前、index:項目説明、index.name)\n",
    "DataFrame2 = pd.DataFrame(index=index_html2)\n",
    "for i in range(int(len(title_lists2))):\n",
    "    DataFrame2[parse_html_list2[i].find_all('p')[4].text[6:].replace('　', '')] = title_list2[10*i:10*(i+1)]\n",
    "DataFrame2.index.name = '【対象者】'"
   ]
  },
  {
   "cell_type": "code",
   "execution_count": null,
   "metadata": {},
   "outputs": [],
   "source": [
    "#Excelファイルの月報担当分けから担当、入社年度、名前の組み合わせを入手\n",
    "wb = openpyxl.load_workbook(filename = 'サビレポ担当分け(' + year + '.' + month +').xlsx')\n",
    "df0 = pd.DataFrame(wb['Sheet1'].values)[1].dropna()[1:]\n",
    "df0.name ='担当'\n",
    "df1 = pd.DataFrame(wb['Sheet1'].values)[3].replace('・コース','').replace('ベーシック','').replace('ライフ','').replace('キャリア','').dropna()[2:]\n",
    "df1.name = '入社年度'"
   ]
  },
  {
   "cell_type": "code",
   "execution_count": null,
   "metadata": {},
   "outputs": [],
   "source": [
    "#入社年度、担当の情報を持つDataFrameを新しく作成\n",
    "df2 =pd.merge(df1, df0, right_index=True, left_index=True).transpose()\n",
    "df2.columns=DataFrame2.columns.values\n",
    "df2"
   ]
  },
  {
   "cell_type": "code",
   "execution_count": null,
   "metadata": {
    "scrolled": true
   },
   "outputs": [],
   "source": [
    "#月報のDataFrameに入社年度、担当情報のDataFrameを結合\n",
    "DataFrame3 = pd.concat([DataFrame2, df2], axis=0) \n",
    "DataFrame3"
   ]
  },
  {
   "cell_type": "code",
   "execution_count": null,
   "metadata": {
    "scrolled": true
   },
   "outputs": [],
   "source": [
    "#担当1・２の振り分け\n",
    "DataFrame_1 =pd.DataFrame()\n",
    "DataFrame_2 =pd.DataFrame()\n",
    "for i in range(len(title_lists2)):\n",
    "    if DataFrame3.iat[11,i] == 1:\n",
    "        DataFrame_1 = pd.concat([DataFrame_1,DataFrame3.iloc[:,i]], axis=1)\n",
    "    else:\n",
    "        DataFrame_2 = pd.concat([DataFrame_2, DataFrame3.iloc[:,i]], axis=1)"
   ]
  },
  {
   "cell_type": "code",
   "execution_count": null,
   "metadata": {},
   "outputs": [],
   "source": [
    "#入社年度の振り分け\n",
    "DataFrame_1_2022 =pd.DataFrame()\n",
    "DataFrame_1_20212020 =pd.DataFrame()\n",
    "DataFrame_1_2019 =pd.DataFrame()\n",
    "for i in range(len(DataFrame_1.columns)):\n",
    "    if DataFrame_1.iat[10,i] == 2022:\n",
    "        DataFrame_1_2022 = pd.concat([DataFrame_1_2022,DataFrame_1.iloc[:,i]], axis=1)\n",
    "    elif DataFrame_1.iat[10,i] == 2021 or DataFrame_1.iat[10,i] == 2020:\n",
    "        DataFrame_1_20212020 = pd.concat([DataFrame_1_20212020, DataFrame_1.iloc[:,i]], axis=1)\n",
    "    else:\n",
    "        DataFrame_1_2019 = pd.concat([DataFrame_1_2019,DataFrame_1.iloc[:,i]], axis=1)   \n",
    "        \n",
    "DataFrame_2_2022 =pd.DataFrame()\n",
    "DataFrame_2_20212020 =pd.DataFrame()\n",
    "DataFrame_2_2019 =pd.DataFrame()\n",
    "for i in range(len(DataFrame_2.columns)):\n",
    "    if DataFrame_2.iat[10,i] == 2022:\n",
    "        DataFrame_2_2022 = pd.concat([DataFrame_2_2022,DataFrame_2.iloc[:,i]], axis=1)\n",
    "    elif DataFrame_2.iat[10,i] == 2021 or DataFrame_2.iat[10,i] == 2020:\n",
    "        DataFrame_2_20212020 = pd.concat([DataFrame_2_20212020, DataFrame_2.iloc[:,i]], axis=1)\n",
    "    else:\n",
    "        DataFrame_2_2019 = pd.concat([DataFrame_2_2019,DataFrame_2.iloc[:,i]], axis=1) "
   ]
  },
  {
   "cell_type": "markdown",
   "metadata": {},
   "source": [
    "メンターメンティー報告書のページの作成"
   ]
  },
  {
   "cell_type": "code",
   "execution_count": null,
   "metadata": {
    "scrolled": true
   },
   "outputs": [],
   "source": [
    "#メンターメンティー報告書を全て入手\n",
    "parse_html_list3 = []\n",
    "for i in mentee_list:\n",
    "    #メンティーの報告書\n",
    "    parse_html_list3.append(parse_html_list2[i].find_all('td')[12:28:2])\n",
    "    #メンティーのページにあるメンターの報告書\n",
    "    parse_html_list3.append(parse_html_list2[i].find_all('td')[13:28:2])\n",
    "for i in range(len(parse_html_list3)):\n",
    "    if parse_html_list3[i] == []:\n",
    "        parse_html_list3[i] = ['','','','','','','','']\n",
    "\n",
    "parse_html_list3_replace = []\n",
    "for k in range(8):\n",
    "    for i in parse_html_list3:\n",
    "        if  i[k] != '':\n",
    "            parse_html_list3_replace.append(i[k].text.replace('<td>', '').replace('</td>', '').replace('\\u3000', '').replace('\\n', ''))\n",
    "        else:\n",
    "            parse_html_list3_replace.append(i[k])\n",
    "parse_html_list3_replace"
   ]
  },
  {
   "cell_type": "code",
   "execution_count": null,
   "metadata": {
    "scrolled": true
   },
   "outputs": [],
   "source": [
    "#メンターメンティー報告書を全て入手\n",
    "parse_html_list3 = []\n",
    "for i in mentee_list:\n",
    "    #メンティーの報告書\n",
    "    parse_html_list3.append(parse_html_list2[i].find_all('td')[12:28:2])\n",
    "    #メンティーのページにあるメンターの報告書\n",
    "    parse_html_list3.append(parse_html_list2[i].find_all('td')[13:28:2])\n",
    "for i in range(len(parse_html_list3)):\n",
    "    if parse_html_list3[i] == []:\n",
    "        parse_html_list3[i] = ['','','','','','','','']\n",
    "parse_html_list3"
   ]
  },
  {
   "cell_type": "code",
   "execution_count": null,
   "metadata": {
    "scrolled": true
   },
   "outputs": [],
   "source": [
    "#indexを入手\n",
    "index_html3 = parse_html_list2[mentee_list[0]].find_all('th')[10:18]\n",
    "index_html4 = []\n",
    "for i in index_html3:\n",
    "    index_html4.append(i.text.replace('<br/>', ''))\n",
    "index_html4"
   ]
  },
  {
   "cell_type": "code",
   "execution_count": null,
   "metadata": {
    "scrolled": true
   },
   "outputs": [],
   "source": [
    "#Dataframe作成(index:項目説明)\n",
    "DataFrame4 = pd.DataFrame()\n",
    "for i in range(8):\n",
    "    DataFrame4[i]= parse_html_list3_replace[int(len(parse_html_list3_replace)/8*i):int(len(parse_html_list3_replace)/8*(i+1))]\n",
    "DataFrame4 = DataFrame4.reset_index(drop=True).T\n",
    "DataFrame4.index = index_html4\n",
    "DataFrame4"
   ]
  },
  {
   "cell_type": "code",
   "execution_count": null,
   "metadata": {},
   "outputs": [],
   "source": [
    "#入社年度、担当情報df3をメンターメンティー報告書用に再構築\n",
    "df3 = pd.merge(df1, df0, right_index=True, left_index=True).reset_index(drop=True).T\n",
    "df4 = pd.DataFrame()\n",
    "for i in mentee_list :\n",
    "    df4 = pd.concat([df4,df3.iloc[:,i]], axis=1)\n",
    "    df4 = pd.concat([df4,df3.iloc[:,i]], axis=1)\n",
    "df4.columns=range(df4.shape[1])\n",
    "df4"
   ]
  },
  {
   "cell_type": "code",
   "execution_count": null,
   "metadata": {
    "scrolled": true
   },
   "outputs": [],
   "source": [
    "#メンターメンティー報告書のDataFrameに入社年度、担当情報を追加\n",
    "DataFrame5 = pd.concat([DataFrame4, df4], axis=0) \n",
    "DataFrame5.index.name = 'メンター・メンティ報告書'\n",
    "DataFrame5"
   ]
  },
  {
   "cell_type": "code",
   "execution_count": null,
   "metadata": {},
   "outputs": [],
   "source": [
    "#担当1・２の振り分け\n",
    "DataFrame5_1 =pd.DataFrame()\n",
    "DataFrame5_2 =pd.DataFrame()\n",
    "for i in range(mentee_number *2):\n",
    "    if DataFrame5.iat[9,i] == 1:\n",
    "        DataFrame5_1 = pd.concat([DataFrame5_1,DataFrame5.iloc[:,i]], axis=1)\n",
    "    else:\n",
    "        DataFrame5_2 = pd.concat([DataFrame5_2, DataFrame5.iloc[:,i]], axis=1)"
   ]
  },
  {
   "cell_type": "code",
   "execution_count": null,
   "metadata": {},
   "outputs": [],
   "source": [
    "#index.nameを決定\n",
    "DataFrame_1_2022.index.name = '【対象者】'\n",
    "DataFrame_1_20212020.index.name = '【対象者】'\n",
    "DataFrame_1_2019.index.name = '【対象者】'\n",
    "DataFrame_2_2022.index.name = '【対象者】'\n",
    "DataFrame_2_20212020.index.name = '【対象者】'\n",
    "DataFrame_2_2019.index.name = '【対象者】'"
   ]
  },
  {
   "cell_type": "code",
   "execution_count": null,
   "metadata": {},
   "outputs": [],
   "source": [
    "#所定のExcelにシート作成\n",
    "with pd.ExcelWriter('【川崎1・2エリア】【●年度●月】エリア状況報告書.xlsx',engine='openpyxl', mode = 'a') as writer:\n",
    "    DataFrame_1_2022.iloc[:10,:].to_excel(writer, sheet_name=\"22入社(1)\")\n",
    "    DataFrame_2_2022.iloc[:10,:].to_excel(writer, sheet_name=\"22入社(2)\")\n",
    "    DataFrame_1_20212020.iloc[:10,:].to_excel(writer, sheet_name=\"21-20入社(1)\")\n",
    "    DataFrame_2_20212020.iloc[:10,:].to_excel(writer, sheet_name=\"21-20入社(2)\")\n",
    "    DataFrame_1_2019.iloc[:10,:].to_excel(writer, sheet_name=\"19以前入社(1)\")\n",
    "    DataFrame_2_2019.iloc[:10,:].to_excel(writer, sheet_name=\"19以前入社(2)\")\n",
    "    DataFrame5_1.iloc[:8,:].to_excel(writer, sheet_name=\"メンターメンティー報告書(1)\")\n",
    "    DataFrame5_2.iloc[:8,:].to_excel(writer, sheet_name=\"メンターメンティー報告書(2)\")"
   ]
  },
  {
   "cell_type": "code",
   "execution_count": null,
   "metadata": {},
   "outputs": [],
   "source": [
    "#Excel編集(列幅設定、中央揃え、折り返して表示、セル背景色設定)\n",
    "from openpyxl import load_workbook\n",
    "from openpyxl.styles import Alignment, PatternFill\n",
    "import string\n",
    "from openpyxl.workbook.protection import WorkbookProtection\n",
    "\n",
    "wb = load_workbook('【川崎1・2エリア】【●年度●月】エリア状況報告書.xlsx')\n",
    "for sheet in wb.worksheets[2:5]:\n",
    "    for i in range(12):\n",
    "        sheet.row_dimensions[i].height= 100\n",
    "        for A in string.ascii_letters[26:51]:\n",
    "            sheet.column_dimensions[A].width = 50\n",
    "    for row in sheet['A1:Z11']:\n",
    "        for cell in row:\n",
    "            cell.alignment = Alignment(horizontal = 'center', vertical = 'center', wrap_text=True)\n",
    "for i in range(10):\n",
    "    wb.worksheets[5].row_dimensions[i].height= 30\n",
    "for A in string.ascii_letters[26:51]:\n",
    "    wb.worksheets[5].column_dimensions[A].width = 20\n",
    "for row in wb.worksheets[5]['A1:Z11']:\n",
    "    for cell in row:\n",
    "        cell.alignment = Alignment(horizontal = 'center', vertical = 'center', wrap_text=True)\n",
    "for row in wb.worksheets[5]['D2:E9']:\n",
    "    for cell in row:\n",
    "        cell.fill =  PatternFill(fgColor='C6E0B4', fill_type='solid')\n",
    "for row in wb.worksheets[5]['H2:I9']:\n",
    "    for cell in row:\n",
    "        cell.fill =  PatternFill(fgColor='C6E0B4', fill_type='solid')\n",
    "for row in wb.worksheets[5]['L2:M9']:\n",
    "    for cell in row:\n",
    "        cell.fill =  PatternFill(fgColor='C6E0B4', fill_type='solid')\n",
    "wb.save('【川崎1・2エリア】【' + year +'年度' + month + '月】エリア状況報告書.xlsx')"
   ]
  },
  {
   "cell_type": "code",
   "execution_count": null,
   "metadata": {
    "scrolled": true
   },
   "outputs": [],
   "source": [
    "#【川崎1・2エリア】【●年度●月】エリア状況報告書に追加されたシートを削除して元に戻す。\n",
    "wb = load_workbook('【川崎1・2エリア】【●年度●月】エリア状況報告書.xlsx')\n",
    "wb.remove_sheet(wb.get_sheet_by_name(\"22入社\"))\n",
    "wb.remove_sheet(wb.get_sheet_by_name(\"21-20入社\"))\n",
    "wb.remove_sheet(wb.get_sheet_by_name(\"19以前入社\"))\n",
    "wb.remove_sheet(wb.get_sheet_by_name(\"メンターメンティー報告書\"))\n",
    "wb.save('【川崎1・2エリア】【●年度●月】エリア状況報告書.xlsx')"
   ]
  }
 ],
 "metadata": {
  "kernelspec": {
   "display_name": "Python 3",
   "language": "python",
   "name": "python3"
  },
  "language_info": {
   "codemirror_mode": {
    "name": "ipython",
    "version": 3
   },
   "file_extension": ".py",
   "mimetype": "text/x-python",
   "name": "python",
   "nbconvert_exporter": "python",
   "pygments_lexer": "ipython3",
   "version": "3.8.5"
  }
 },
 "nbformat": 4,
 "nbformat_minor": 4
}
